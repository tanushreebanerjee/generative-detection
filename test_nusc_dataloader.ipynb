{
 "cells": [
  {
   "cell_type": "code",
   "execution_count": null,
   "metadata": {},
   "outputs": [],
   "source": [
    "from src.data.datasets.nuscenes import NuScenesValidationMini, LABEL_ID2NAME\n",
    "import tqdm"
   ]
  },
  {
   "cell_type": "code",
   "execution_count": null,
   "metadata": {},
   "outputs": [],
   "source": [
    "nusc_base_kwargs = {\n",
    "    \"patch_height\": 256,\n",
    "    \"patch_aspect_ratio\": 1.3,\n",
    "    \"label_names\": ['car'],\n",
    "    \"data_root\": \"data/nuscenes\",\n",
    "    \"pipeline\": [],\n",
    "    \"box_type_3d\": \"Camera\",\n",
    "    \"load_type\": 'frame_based',\n",
    "    \"modality\": dict(use_camera=True,use_lidar=False),\n",
    "    \"filter_empty_gt\": False,\n",
    "    \"test_mode\": False,\n",
    "    \"with_velocity\": False,\n",
    "    \"use_valid_flag\": False,\n",
    "}\n",
    "\n",
    "nusc_val = NuScenesValidationMini(**nusc_base_kwargs)"
   ]
  },
  {
   "cell_type": "code",
   "execution_count": null,
   "metadata": {},
   "outputs": [],
   "source": [
    "len(nusc_val)"
   ]
  },
  {
   "cell_type": "code",
   "execution_count": null,
   "metadata": {},
   "outputs": [],
   "source": [
    "idx = 0\n",
    "nusc_val[idx].cam_instances[0]"
   ]
  },
  {
   "cell_type": "code",
   "execution_count": null,
   "metadata": {},
   "outputs": [],
   "source": [
    "num_car_instances = 0\n",
    "num_instances = 0\n",
    "pbar = tqdm.tqdm(total=len(nusc_val))\n",
    "instance_counts = {k: 0 for k in LABEL_ID2NAME.keys()}\n",
    "for sample_idx, sample in enumerate(nusc_val):\n",
    "    \n",
    "    for cam_instance in sample.cam_instances:\n",
    "        instance_counts[cam_instance.bbox_label] += 1\n",
    "        \n",
    "        pbar.set_description(f\"Car instances: {num_car_instances}, Total instances: {num_instances}, Current instance: {cam_instance.bbox_label}\")\n",
    "        num_instances += 1\n",
    "        if cam_instance.bbox_label == 0:\n",
    "            num_car_instances += 1\n",
    "    pbar.update(1)\n",
    "print(instance_counts)\n"
   ]
  },
  {
   "cell_type": "code",
   "execution_count": null,
   "metadata": {},
   "outputs": [],
   "source": [
    "instance_counts"
   ]
  },
  {
   "cell_type": "code",
   "execution_count": null,
   "metadata": {},
   "outputs": [],
   "source": [
    "class AverageMeter:\n",
    "    def __init__(self):\n",
    "        self.reset()\n",
    "        \n",
    "    def reset(self):\n",
    "        self.val = 0\n",
    "        self.avg = 0\n",
    "        self.sum = 0\n",
    "        self.count = 0\n",
    "        self.history = []\n",
    "        \n",
    "    def update(self, val, n=1):\n",
    "        self.val = val\n",
    "        self.sum += val * n\n",
    "        self.count += n\n",
    "        self.avg = self.sum / self.count\n",
    "        self.history.append(val)\n",
    "        \n",
    "    def __str__(self):\n",
    "        return f\"{self.avg:.4f}\"\n",
    "    \n",
    "    def __float__(self):\n",
    "        return self.avg"
   ]
  },
  {
   "cell_type": "code",
   "execution_count": null,
   "metadata": {},
   "outputs": [],
   "source": [
    "# compute  patch size statistics - mean mode median min max\n",
    "patch_size_meter_x = AverageMeter()\n",
    "patch_size_meter_y = AverageMeter()\n",
    "\n",
    "pbar = tqdm.tqdm(nusc_val)\n",
    "for sample in nusc_val:\n",
    "    for cam_instance in sample.cam_instances:\n",
    "        patch_size_meter_x.update(cam_instance.patch.shape[1])\n",
    "        patch_size_meter_y.update(cam_instance.patch.shape[0])\n",
    "\n",
    "        pbar.set_description(f\"Patch size x: {patch_size_meter_x}, Patch size y: {patch_size_meter_y}\")\n",
    "        pbar.update(1)\n",
    "        \n",
    "\n"
   ]
  },
  {
   "cell_type": "code",
   "execution_count": null,
   "metadata": {},
   "outputs": [],
   "source": [
    "print(f\"Mean patch size: {patch_size_meter_x}, {patch_size_meter_y}\")\n",
    "# print median, mode, min, max\n",
    "\n",
    "import numpy as np\n",
    "import scipy.stats as stats\n",
    "print(f\"Mean patch size x: {np.mean(patch_size_meter_x.history)}, y: {np.mean(patch_size_meter_y.history)}\")\n",
    "print(f\"Median patch size x: {np.median(patch_size_meter_x.history)}, y: {np.median(patch_size_meter_y.history)}\")\n",
    "print(f\"Mode patch size x: {stats.mode(patch_size_meter_x.history)}, y: {stats.mode(patch_size_meter_y.history)}\")\n",
    "print(f\"Min patch size x: {np.min(patch_size_meter_x.history)}, y: {np.min(patch_size_meter_y.history)}\")\n",
    "print(f\"Max patch size x: {np.max(patch_size_meter_x.history)}, y: {np.max(patch_size_meter_y.history)}\")\n",
    "print(f\"Patch size x std: {np.std(patch_size_meter_x.history)}, y: {np.std(patch_size_meter_y.history)}\")\n",
    "print(f\"Patch size x var: {np.var(patch_size_meter_x.history)}, y: {np.var(patch_size_meter_y.history)}\")"
   ]
  },
  {
   "cell_type": "code",
   "execution_count": null,
   "metadata": {},
   "outputs": [],
   "source": [
    "# histogram of patch sizes\n",
    "import matplotlib.pyplot as plt\n",
    "plt.hist(patch_size_meter_x.history, bins=100)\n",
    "plt.show()\n",
    "plt.hist(patch_size_meter_y.history, bins=100)\n",
    "plt.show()\n"
   ]
  },
  {
   "cell_type": "code",
   "execution_count": null,
   "metadata": {},
   "outputs": [],
   "source": [
    "# aspect ratio statistics\n",
    "aspect_ratio_meter = AverageMeter()\n",
    "pbar = tqdm.tqdm(nusc_val)\n",
    "for sample in nusc_val:\n",
    "    for cam_instance in sample.cam_instances:\n",
    "        aspect_ratio_meter.update(cam_instance.patch.shape[1] / cam_instance.patch.shape[0])\n",
    "        pbar.set_description(f\"Aspect ratio: {aspect_ratio_meter}\")\n",
    "        pbar.update(1)\n",
    "        \n",
    "print(f\"Mean aspect ratio: {aspect_ratio_meter}\")\n",
    "print(f\"Median aspect ratio: {np.median(aspect_ratio_meter.history)}\")\n",
    "print(f\"Mode aspect ratio: {stats.mode(aspect_ratio_meter.history)}\")\n",
    "print(f\"Min aspect ratio: {np.min(aspect_ratio_meter.history)}\")\n",
    "print(f\"Max aspect ratio: {np.max(aspect_ratio_meter.history)}\")\n",
    "print(f\"Aspect ratio std: {np.std(aspect_ratio_meter.history)}\")\n",
    "print(f\"Aspect ratio var: {np.var(aspect_ratio_meter.history)}\")\n",
    "\n",
    "# histogram of aspect ratios\n",
    "import matplotlib.pyplot as plt\n",
    "plt.hist(aspect_ratio_meter.history, bins=100)\n",
    "plt.show()\n"
   ]
  },
  {
   "cell_type": "code",
   "execution_count": null,
   "metadata": {},
   "outputs": [],
   "source": [
    "# histogram of patch sizes\n",
    "import matplotlib.pyplot as plt\n",
    "plt.hist(patch_size_meter_x.history, bins=100)\n",
    "plt.show()\n",
    "plt.hist(patch_size_meter_y.history, bins=100)\n",
    "\n",
    "plt.show()"
   ]
  },
  {
   "cell_type": "code",
   "execution_count": null,
   "metadata": {},
   "outputs": [],
   "source": [
    "# display 10 samples in the original size\n",
    "import matplotlib.pyplot as plt\n",
    "from PIL import Image\n",
    "import numpy as np\n",
    "\n",
    "pbar = tqdm.tqdm(nusc_val)\n",
    "counter = 0\n",
    "for i, sample in enumerate(pbar):\n",
    "    for cam_instance_idx, cam_instance in enumerate(sample.cam_instances):\n",
    "        pbar.set_description(f\"Sample {i}, Camera {cam_instance_idx}, Label: {cam_instance.bbox_label}, Patch shape: {cam_instance.patch.shape}\")\n",
    "        if cam_instance.bbox_label == 0:\n",
    "            plt.imshow(cam_instance.patch)\n",
    "            plt.show()\n",
    "            counter += 1\n",
    "        if counter >= 10:\n",
    "            break\n",
    "        \n"
   ]
  }
 ],
 "metadata": {
  "kernelspec": {
   "display_name": "gendetect2",
   "language": "python",
   "name": "python3"
  },
  "language_info": {
   "codemirror_mode": {
    "name": "ipython",
    "version": 3
   },
   "file_extension": ".py",
   "mimetype": "text/x-python",
   "name": "python",
   "nbconvert_exporter": "python",
   "pygments_lexer": "ipython3",
   "version": "3.1.0"
  }
 },
 "nbformat": 4,
 "nbformat_minor": 2
}
