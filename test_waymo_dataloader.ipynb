{
 "cells": [
  {
   "cell_type": "code",
   "execution_count": null,
   "metadata": {},
   "outputs": [],
   "source": [
    "# from src.data.datasets.nuscenes import NuScenesValidationMini, LABEL_ID2NAME\n",
    "from src.data.datasets.waymo import WaymoValidation, LABEL_ID2NAME\n",
    "import tqdm"
   ]
  },
  {
   "cell_type": "code",
   "execution_count": null,
   "metadata": {},
   "outputs": [],
   "source": [
    "# Args are here: https://github.com/open-mmlab/mmdetection3d/blob/main/mmdet3d/datasets/waymo_dataset.py\n",
    "waymo_base_kwargs = {\n",
    "    \"patch_height\": 256,\n",
    "    \"patch_aspect_ratio\": 1.3,\n",
    "    \"label_names\": ['Car'],\n",
    "    \"data_root\": \"data/waymo\",\n",
    "    \"pipeline\": [],\n",
    "    \"box_type_3d\": \"Camera\",\n",
    "    \"load_type\": 'frame_based',\n",
    "    \"modality\": dict(use_camera=True,use_lidar=False),\n",
    "    \"filter_empty_gt\": False,\n",
    "    \"test_mode\": False,\n",
    "    \"with_velocity\": False,\n",
    "    \"use_valid_flag\": False,\n",
    "}\n",
    "\n",
    "waymo_val = WaymoValidation(**waymo_base_kwargs)"
   ]
  },
  {
   "cell_type": "code",
   "execution_count": null,
   "metadata": {},
   "outputs": [],
   "source": [
    "nusc_val[5]"
   ]
  },
  {
   "cell_type": "code",
   "execution_count": null,
   "metadata": {},
   "outputs": [],
   "source": [
    "# mark patch_center_2d as red on full image\n",
    "idx = 50\n",
    "import matplotlib.pyplot as plt\n",
    "\n",
    "for idx in tqdm.tqdm(range(len(nusc_val))):\n",
    "    full_img = nusc_val[idx].full_img.permute(1,2,0)\n",
    "\n",
    "    # mark patch_center_2d as red on full image \n",
    "    patch_center_2d = nusc_val[idx].patch_center_2d # torch.Size([2])"
   ]
  },
  {
   "cell_type": "code",
   "execution_count": null,
   "metadata": {},
   "outputs": [],
   "source": [
    "patch = nusc_val[idx].patch.permute(1,2,0).numpy()\n",
    "plt.imshow(patch)\n",
    "plt.show(), idx"
   ]
  },
  {
   "cell_type": "code",
   "execution_count": null,
   "metadata": {},
   "outputs": [],
   "source": [
    "# mark patch_center_2d as red on full image\n",
    "idx = 11\n",
    "import matplotlib.pyplot as plt\n",
    "\n",
    "full_img = nusc_val[idx].full_img.permute(1,2,0)\n",
    "\n",
    "# mark patch_center_2d as red on full image \n",
    "patch_center_2d = nusc_val[idx].patch_center_2d # torch.Size([2])\n",
    "\n",
    "full_img = full_img.numpy()\n",
    "full_img = full_img.copy() # (900, 1600, 3)\n",
    "\n",
    "# make patch_center_2d as red with surrounding pixels red\n",
    "\n",
    "patch_center_2d = patch_center_2d.numpy()\n",
    "patch_center_2d = patch_center_2d.astype(int)\n",
    "patch_center_2d = patch_center_2d.tolist()\n",
    "\n",
    "for i in range(-5, 6):\n",
    "    for j in range(-5, 6):\n",
    "        full_img[patch_center_2d[1]+i, patch_center_2d[0]+j, :] = [1,0,0]\n",
    "        \n",
    "plt.imshow(full_img)\n",
    "plt.show(), nusc_val[idx].pose_6d"
   ]
  },
  {
   "cell_type": "code",
   "execution_count": null,
   "metadata": {},
   "outputs": [],
   "source": [
    "# visualize "
   ]
  },
  {
   "cell_type": "code",
   "execution_count": null,
   "metadata": {},
   "outputs": [],
   "source": [
    "nusc_val[0].full_img.shape, nusc_val[0].patch.shape"
   ]
  },
  {
   "cell_type": "code",
   "execution_count": null,
   "metadata": {},
   "outputs": [],
   "source": [
    "nusc_val[0].full_img.min(), nusc_val[0].full_img.max()"
   ]
  },
  {
   "cell_type": "code",
   "execution_count": null,
   "metadata": {},
   "outputs": [],
   "source": [
    "import matplotlib.pyplot as plt\n",
    "nusc_val[0].full_img.shape # torch.Size([3, 900, 1600])\n",
    "plt.imshow(nusc_val[0].full_img.permute(1,2,0))"
   ]
  },
  {
   "cell_type": "code",
   "execution_count": null,
   "metadata": {},
   "outputs": [],
   "source": [
    "nusc_val[0].patch.min(), nusc_val[0].patch.max()"
   ]
  },
  {
   "cell_type": "code",
   "execution_count": null,
   "metadata": {},
   "outputs": [],
   "source": [
    "plt.imshow(nusc_val[1].patch.permute(1,2,0))"
   ]
  },
  {
   "cell_type": "code",
   "execution_count": null,
   "metadata": {},
   "outputs": [],
   "source": [
    "plt.imshow(nusc_val[0].patch.permute(1,2,0))"
   ]
  },
  {
   "cell_type": "code",
   "execution_count": null,
   "metadata": {},
   "outputs": [],
   "source": [
    "nusc_val[1].patch.min(), nusc_val[1].patch.max()"
   ]
  },
  {
   "cell_type": "code",
   "execution_count": null,
   "metadata": {},
   "outputs": [],
   "source": [
    "nusc_val[1].patch.max(), nusc_val[1].patch.min()"
   ]
  },
  {
   "cell_type": "code",
   "execution_count": null,
   "metadata": {},
   "outputs": [],
   "source": []
  },
  {
   "cell_type": "code",
   "execution_count": null,
   "metadata": {},
   "outputs": [],
   "source": []
  },
  {
   "cell_type": "code",
   "execution_count": null,
   "metadata": {},
   "outputs": [],
   "source": [
    "#### The Below code may be based off the old test_nusc_dataloader.ipynb"
   ]
  },
  {
   "cell_type": "code",
   "execution_count": null,
   "metadata": {},
   "outputs": [],
   "source": []
  },
  {
   "cell_type": "code",
   "execution_count": null,
   "metadata": {},
   "outputs": [],
   "source": [
    "len(waymo_val)"
   ]
  },
  {
   "cell_type": "code",
   "execution_count": null,
   "metadata": {},
   "outputs": [],
   "source": [
    "idx = 0\n",
    "waymo_val[idx].cam_instances[0]"
   ]
  },
  {
   "cell_type": "code",
   "execution_count": null,
   "metadata": {},
   "outputs": [],
   "source": [
    "num_car_instances = 0\n",
    "num_instances = 0\n",
    "pbar = tqdm.tqdm(total=len(waymo_val))\n",
    "instance_counts = {k: 0 for k in LABEL_ID2NAME.keys()}\n",
    "for sample_idx, sample in enumerate(waymo_val):\n",
    "    \n",
    "    for cam_instance in sample.cam_instances:\n",
    "        instance_counts[cam_instance.bbox_label] += 1\n",
    "        \n",
    "        pbar.set_description(f\"Car instances: {num_car_instances}, Total instances: {num_instances}, Current instance: {cam_instance.bbox_label}\")\n",
    "        num_instances += 1\n",
    "        if cam_instance.bbox_label == 0:\n",
    "            num_car_instances += 1\n",
    "    pbar.update(1)\n",
    "print(instance_counts)\n"
   ]
  },
  {
   "cell_type": "code",
   "execution_count": null,
   "metadata": {},
   "outputs": [],
   "source": [
    "instance_counts"
   ]
  },
  {
   "cell_type": "code",
   "execution_count": null,
   "metadata": {},
   "outputs": [],
   "source": [
    "class AverageMeter:\n",
    "    def __init__(self):\n",
    "        self.reset()\n",
    "        \n",
    "    def reset(self):\n",
    "        self.val = 0\n",
    "        self.avg = 0\n",
    "        self.sum = 0\n",
    "        self.count = 0\n",
    "        self.history = []\n",
    "        \n",
    "    def update(self, val, n=1):\n",
    "        self.val = val\n",
    "        self.sum += val * n\n",
    "        self.count += n\n",
    "        self.avg = self.sum / self.count\n",
    "        self.history.append(val)\n",
    "        \n",
    "    def __str__(self):\n",
    "        return f\"{self.avg:.4f}\"\n",
    "    \n",
    "    def __float__(self):\n",
    "        return self.avg"
   ]
  },
  {
   "cell_type": "code",
   "execution_count": null,
   "metadata": {},
   "outputs": [],
   "source": [
    "# compute  patch size statistics - mean mode median min max\n",
    "patch_size_meter_x = AverageMeter()\n",
    "patch_size_meter_y = AverageMeter()\n",
    "\n",
    "pbar = tqdm.tqdm(waymo_val)\n",
    "for sample in waymo_val:\n",
    "    for cam_instance in sample.cam_instances:\n",
    "        patch_size_meter_x.update(cam_instance.patch.shape[1])\n",
    "        patch_size_meter_y.update(cam_instance.patch.shape[0])\n",
    "\n",
    "        pbar.set_description(f\"Patch size x: {patch_size_meter_x}, Patch size y: {patch_size_meter_y}\")\n",
    "        pbar.update(1)\n",
    "        \n",
    "\n"
   ]
  },
  {
   "cell_type": "code",
   "execution_count": null,
   "metadata": {},
   "outputs": [],
   "source": [
    "print(f\"Mean patch size: {patch_size_meter_x}, {patch_size_meter_y}\")\n",
    "# print median, mode, min, max\n",
    "\n",
    "import numpy as np\n",
    "import scipy.stats as stats\n",
    "print(f\"Mean patch size x: {np.mean(patch_size_meter_x.history)}, y: {np.mean(patch_size_meter_y.history)}\")\n",
    "print(f\"Median patch size x: {np.median(patch_size_meter_x.history)}, y: {np.median(patch_size_meter_y.history)}\")\n",
    "print(f\"Mode patch size x: {stats.mode(patch_size_meter_x.history)}, y: {stats.mode(patch_size_meter_y.history)}\")\n",
    "print(f\"Min patch size x: {np.min(patch_size_meter_x.history)}, y: {np.min(patch_size_meter_y.history)}\")\n",
    "print(f\"Max patch size x: {np.max(patch_size_meter_x.history)}, y: {np.max(patch_size_meter_y.history)}\")\n",
    "print(f\"Patch size x std: {np.std(patch_size_meter_x.history)}, y: {np.std(patch_size_meter_y.history)}\")\n",
    "print(f\"Patch size x var: {np.var(patch_size_meter_x.history)}, y: {np.var(patch_size_meter_y.history)}\")"
   ]
  },
  {
   "cell_type": "code",
   "execution_count": null,
   "metadata": {},
   "outputs": [],
   "source": [
    "# histogram of patch sizes\n",
    "import matplotlib.pyplot as plt\n",
    "plt.hist(patch_size_meter_x.history, bins=100)\n",
    "plt.show()\n",
    "plt.hist(patch_size_meter_y.history, bins=100)\n",
    "plt.show()\n"
   ]
  },
  {
   "cell_type": "code",
   "execution_count": null,
   "metadata": {},
   "outputs": [],
   "source": [
    "# aspect ratio statistics\n",
    "aspect_ratio_meter = AverageMeter()\n",
    "pbar = tqdm.tqdm(waymo_val)\n",
    "for sample in waymo_val:\n",
    "    for cam_instance in sample.cam_instances:\n",
    "        aspect_ratio_meter.update(cam_instance.patch.shape[1] / cam_instance.patch.shape[0])\n",
    "        pbar.set_description(f\"Aspect ratio: {aspect_ratio_meter}\")\n",
    "        pbar.update(1)\n",
    "        \n",
    "print(f\"Mean aspect ratio: {aspect_ratio_meter}\")\n",
    "print(f\"Median aspect ratio: {np.median(aspect_ratio_meter.history)}\")\n",
    "print(f\"Mode aspect ratio: {stats.mode(aspect_ratio_meter.history)}\")\n",
    "print(f\"Min aspect ratio: {np.min(aspect_ratio_meter.history)}\")\n",
    "print(f\"Max aspect ratio: {np.max(aspect_ratio_meter.history)}\")\n",
    "print(f\"Aspect ratio std: {np.std(aspect_ratio_meter.history)}\")\n",
    "print(f\"Aspect ratio var: {np.var(aspect_ratio_meter.history)}\")\n",
    "\n",
    "# histogram of aspect ratios\n",
    "import matplotlib.pyplot as plt\n",
    "plt.hist(aspect_ratio_meter.history, bins=100)\n",
    "plt.show()\n"
   ]
  },
  {
   "cell_type": "code",
   "execution_count": null,
   "metadata": {},
   "outputs": [],
   "source": [
    "# histogram of patch sizes\n",
    "import matplotlib.pyplot as plt\n",
    "plt.hist(patch_size_meter_x.history, bins=100)\n",
    "plt.show()\n",
    "plt.hist(patch_size_meter_y.history, bins=100)\n",
    "\n",
    "plt.show()"
   ]
  },
  {
   "cell_type": "code",
   "execution_count": null,
   "metadata": {},
   "outputs": [],
   "source": [
    "# display 10 samples in the original size\n",
    "import matplotlib.pyplot as plt\n",
    "from PIL import Image\n",
    "import numpy as np\n",
    "\n",
    "pbar = tqdm.tqdm(waymo_val)\n",
    "counter = 0\n",
    "for i, sample in enumerate(pbar):\n",
    "    for cam_instance_idx, cam_instance in enumerate(sample.cam_instances):\n",
    "        pbar.set_description(f\"Sample {i}, Camera {cam_instance_idx}, Label: {cam_instance.bbox_label}, Patch shape: {cam_instance.patch.shape}\")\n",
    "        if cam_instance.bbox_label == 0:\n",
    "            plt.imshow(cam_instance.patch)\n",
    "            plt.show()\n",
    "            counter += 1\n",
    "        if counter >= 10:\n",
    "            break\n",
    "        \n"
   ]
  }
 ],
 "metadata": {
  "kernelspec": {
   "display_name": "gendetect2",
   "language": "python",
   "name": "python3"
  },
  "language_info": {
   "codemirror_mode": {
    "name": "ipython",
    "version": 3
   },
   "file_extension": ".py",
   "mimetype": "text/x-python",
   "name": "python",
   "nbconvert_exporter": "python",
   "pygments_lexer": "ipython3",
   "version": "3.1.0"
  }
 },
 "nbformat": 4,
 "nbformat_minor": 2
}
